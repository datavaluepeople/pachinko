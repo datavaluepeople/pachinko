{
 "cells": [
  {
   "cell_type": "code",
   "execution_count": null,
   "metadata": {},
   "outputs": [],
   "source": [
    "%load_ext autoreload\n",
    "%autoreload 2"
   ]
  },
  {
   "cell_type": "code",
   "execution_count": null,
   "metadata": {},
   "outputs": [],
   "source": [
    "import truman\n",
    "from pachinko import time_period_step_agent as agents\n",
    "\n",
    "import numpy as np\n",
    "import pandas as pd\n",
    "import glob\n",
    "\n",
    "import matplotlib.pyplot as plt\n",
    "\n",
    "plt.rcParams[\"figure.figsize\"] = [24, 8]"
   ]
  },
  {
   "cell_type": "code",
   "execution_count": null,
   "metadata": {},
   "outputs": [],
   "source": [
    "agent_registry = truman.agent_registration.AgentRegistry()\n",
    "\n",
    "agent_registry.register(\n",
    "    id=\"Periodic:7step-v0\",\n",
    "    entry_point=agents.Periodic,\n",
    "    kwargs={\"period_length\": 7}\n",
    ")\n",
    "\n",
    "agent_registry.register(\n",
    "    id=\"ForgettingPeriodic:7step-defaultdecay-v0\",\n",
    "    entry_point=agents.ForgettingPeriodic,\n",
    "    kwargs={\"period_length\": 7}\n",
    ")\n",
    "\n",
    "agent_registry.register(\n",
    "    id=\"ForgettingPeriodic:7step-lessdecay-v0\",\n",
    "    entry_point=agents.ForgettingPeriodic,\n",
    "    kwargs={\"period_length\": 7, \"exponential_decay_constant\": 1/ 50}\n",
    ")\n",
    "\n",
    "agent_registry.register(\n",
    "    id=\"Random-v0\",\n",
    "    entry_point=agents.RandomAgent,\n",
    ")\n",
    "\n",
    "agent_registry.register(\n",
    "    id=\"EpsilonGreedy-v0\",\n",
    "    entry_point=agents.EpsilonGreedy,\n",
    ")"
   ]
  },
  {
   "cell_type": "code",
   "execution_count": null,
   "metadata": {},
   "outputs": [],
   "source": [
    "truman.run(agent_registry, [truman.registry], {\"output_directory\": \"../../truman_store\"})"
   ]
  },
  {
   "cell_type": "code",
   "execution_count": null,
   "metadata": {
    "scrolled": false
   },
   "outputs": [],
   "source": [
    "!ls ../../truman_store"
   ]
  },
  {
   "cell_type": "code",
   "execution_count": null,
   "metadata": {},
   "outputs": [],
   "source": [
    "summary_df = pd.concat(\n",
    "    [pd.read_csv(csv) for csv in glob.glob(\"../../truman_store/*__summary.csv\")],\n",
    "    ignore_index=True,\n",
    ")"
   ]
  },
  {
   "cell_type": "code",
   "execution_count": null,
   "metadata": {},
   "outputs": [],
   "source": [
    "summary_df.sort_values(by=[\"env_id\", \"agent_id\"])"
   ]
  },
  {
   "cell_type": "code",
   "execution_count": null,
   "metadata": {
    "scrolled": true
   },
   "outputs": [],
   "source": [
    "for parquet in glob.glob(\"../../truman_store/*Matching_sin7:conv_1:0.002*.parquet\"):\n",
    "    print(parquet)\n",
    "    history_df = pd.read_parquet(parquet)\n",
    "    history_df[\"cum_reward\"] = history_df[\"reward\"].cumsum()\n",
    "    truman.plot.plot(history_df, use_cols=[\"action\", \"reward\", \"cum_reward\", \"agent_ucb_selected_action\"])\n",
    "    plt.show()"
   ]
  },
  {
   "cell_type": "code",
   "execution_count": null,
   "metadata": {
    "scrolled": true
   },
   "outputs": [],
   "source": [
    "for parquet in glob.glob(\"../../truman_store/*Matching_sin7:conv_1:0.2*.parquet\"):\n",
    "    print(parquet)\n",
    "    history_df = pd.read_parquet(parquet)\n",
    "    history_df[\"cum_reward\"] = history_df[\"reward\"].cumsum()\n",
    "    truman.plot.plot(history_df, use_cols=[\"action\", \"cum_reward\", \"agent_ucb_selected_action\", \"reward\"])\n",
    "    plt.show()"
   ]
  },
  {
   "cell_type": "code",
   "execution_count": null,
   "metadata": {
    "scrolled": true
   },
   "outputs": [],
   "source": [
    "for parquet in glob.glob(\"../../truman_store/*NonStationaryTrend:conv_1:0.02*.parquet\"):\n",
    "    print(parquet)\n",
    "    history_df = pd.read_parquet(parquet)\n",
    "    history_df[\"cum_reward\"] = history_df[\"reward\"].cumsum()\n",
    "    #truman.plot.plot(history_df, use_cols=[\"action\", \"reward\", \"cum_reward\", \"agent_ucb_selected_action\"])\n",
    "    truman.plot.plot(history_df, use_cols=\"all\")\n",
    "    plt.show()"
   ]
  }
 ],
 "metadata": {
  "kernelspec": {
   "display_name": "Python 3",
   "language": "python",
   "name": "python3"
  },
  "language_info": {
   "codemirror_mode": {
    "name": "ipython",
    "version": 3
   },
   "file_extension": ".py",
   "mimetype": "text/x-python",
   "name": "python",
   "nbconvert_exporter": "python",
   "pygments_lexer": "ipython3",
   "version": "3.7.10"
  }
 },
 "nbformat": 4,
 "nbformat_minor": 4
}
